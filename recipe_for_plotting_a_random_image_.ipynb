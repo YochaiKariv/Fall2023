{
  "nbformat": 4,
  "nbformat_minor": 0,
  "metadata": {
    "colab": {
      "provenance": [],
      "authorship_tag": "ABX9TyMuYzFHq+Dw+/kTDDic73aI",
      "include_colab_link": true
    },
    "kernelspec": {
      "name": "python3",
      "display_name": "Python 3"
    },
    "language_info": {
      "name": "python"
    }
  },
  "cells": [
    {
      "cell_type": "markdown",
      "metadata": {
        "id": "view-in-github",
        "colab_type": "text"
      },
      "source": [
        "<a href=\"https://colab.research.google.com/github/YochaiKariv/Fall2023/blob/main/recipe_for_plotting_a_random_image_.ipynb\" target=\"_parent\"><img src=\"https://colab.research.google.com/assets/colab-badge.svg\" alt=\"Open In Colab\"/></a>"
      ]
    },
    {
      "cell_type": "code",
      "execution_count": 10,
      "metadata": {
        "id": "1VjZitzYogHH"
      },
      "outputs": [],
      "source": [
        "## get the right libraries\n",
        "import numpy as np\n",
        "import matplotlib.pyplot as plt"
      ]
    },
    {
      "cell_type": "code",
      "source": [
        "# create and assign a random image of 8*8 pixels\n",
        "random_matrix= np.random.randint(0,256,size=(8,8))"
      ],
      "metadata": {
        "id": "xxNjpqKGo17U"
      },
      "execution_count": 12,
      "outputs": []
    },
    {
      "cell_type": "code",
      "source": [
        "# here I am using plt to plot my random matrix as an image on a gray scale\n",
        "plt.imshow(random_matrix,cmap='gray')"
      ],
      "metadata": {
        "colab": {
          "base_uri": "https://localhost:8080/",
          "height": 447
        },
        "id": "Q0k10wQepgzQ",
        "outputId": "7a380aff-62c3-4168-c473-e78087b8296c"
      },
      "execution_count": 15,
      "outputs": [
        {
          "output_type": "execute_result",
          "data": {
            "text/plain": [
              "<matplotlib.image.AxesImage at 0x78415b7ad3c0>"
            ]
          },
          "metadata": {},
          "execution_count": 15
        },
        {
          "output_type": "display_data",
          "data": {
            "text/plain": [
              "<Figure size 640x480 with 1 Axes>"
            ],
            "image/png": "[encoded data removed]"
          },
          "metadata": {}
        }
      ]
    },
    {
      "cell_type": "code",
      "source": [
        "# this is just to print the matrix I created as numbers with 0 as black and 256 as white\n",
        "print(random_matrix)"
      ],
      "metadata": {
        "colab": {
          "base_uri": "https://localhost:8080/"
        },
        "id": "02hxzBUWrBAu",
        "outputId": "505a02e3-6659-4123-8bd8-333fc680c57f"
      },
      "execution_count": 16,
      "outputs": [
        {
          "output_type": "stream",
          "name": "stdout",
          "text": [
            "[[ 96 167 106 157  42 112 191  95]\n",
            " [ 62 248 128 197  80  77 158  54]\n",
            " [ 27 199 161 139  27 243 174  62]\n",
            " [182 163 151  64  37 154  88 139]\n",
            " [228 101  83  75  41 150  27 254]\n",
            " [240 121 154  62  73 208 110 206]\n",
            " [ 79  96 157 132  45  78 229  17]\n",
            " [ 63 159 243  94 248 242  61 130]]\n"
          ]
        }
      ]
    },
    {
      "cell_type": "code",
      "source": [],
      "metadata": {
        "id": "ooByS9cWrye0"
      },
      "execution_count": null,
      "outputs": []
    }
  ]
}