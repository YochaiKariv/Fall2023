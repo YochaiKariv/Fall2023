{
  "nbformat": 4,
  "nbformat_minor": 0,
  "metadata": {
    "colab": {
      "provenance": [],
      "authorship_tag": "ABX9TyPYpU3u3HJBMdO7b+lduTwk",
      "include_colab_link": true
    },
    "kernelspec": {
      "name": "python3",
      "display_name": "Python 3"
    },
    "language_info": {
      "name": "python"
    }
  },
  "cells": [
    {
      "cell_type": "markdown",
      "metadata": {
        "id": "view-in-github",
        "colab_type": "text"
      },
      "source": [
        "<a href=\"https://colab.research.google.com/github/YochaiKariv/Fall2023/blob/main/learning_the_simplest_form_of_machine_learning.ipynb\" target=\"_parent\"><img src=\"https://colab.research.google.com/assets/colab-badge.svg\" alt=\"Open In Colab\"/></a>"
      ]
    },
    {
      "cell_type": "code",
      "execution_count": 1,
      "metadata": {
        "colab": {
          "base_uri": "https://localhost:8080/"
        },
        "id": "GSe2IvXKhW1N",
        "outputId": "d159c99a-2d1b-4493-b1bf-e06f1fb9523a"
      },
      "outputs": [
        {
          "output_type": "stream",
          "name": "stdout",
          "text": [
            "Actual Passing Grades: [0 0 1 1 1]\n",
            "Predicted Labels: [1 1 1 1 1]\n",
            "Accuracy: 0.6\n"
          ]
        }
      ],
      "source": [
        "## chat gpt code:\n",
        "\n",
        "import numpy as np\n",
        "\n",
        "# Simulated student data\n",
        "# Each row represents a student: [hours_studied, hours_slept, passing_grade]\n",
        "student_data = np.array([[1, 8, 0],  # Student 1: Studied 1 hour, slept 8 hours, didn't pass (0)\n",
        "                         [3, 7, 0],  # Student 2: Studied 3 hours, slept 7 hours, didn't pass (0)\n",
        "                         [2, 9, 1],  # Student 3: Studied 2 hours, slept 9 hours, passed (1)\n",
        "                         [5, 6, 1],  # Student 4: Studied 5 hours, slept 6 hours, passed (1)\n",
        "                         [4, 7, 1]]) # Student 5: Studied 4 hours, slept 7 hours, passed (1)\n",
        "\n",
        "# Extracting features (hours_studied and hours_slept) and labels (passing_grade)\n",
        "X = student_data[:, :-1]  # Features: hours_studied and hours_slept\n",
        "Y = student_data[:, -1]   # Labels: passing_grade\n",
        "\n",
        "# Defining a simple model\n",
        "# Let's pretend we have a magical model represented by weights [w1, w2] and a bias b\n",
        "w1 = 0.5\n",
        "w2 = 0.3\n",
        "b = -2\n",
        "\n",
        "# Predicting passing grades\n",
        "predicted_grades = w1 * X[:, 0] + w2 * X[:, 1] + b\n",
        "\n",
        "# Let's assume a passing grade if the predicted value is greater than 0.5\n",
        "predicted_labels = (predicted_grades > 0.5).astype(int)\n",
        "\n",
        "# Comparing predicted labels to actual labels\n",
        "correct_predictions = (predicted_labels == Y)\n",
        "\n",
        "# Calculating accuracy\n",
        "accuracy = np.mean(correct_predictions)\n",
        "\n",
        "# Printing results\n",
        "print(\"Actual Passing Grades:\", Y)\n",
        "print(\"Predicted Labels:\", predicted_labels)\n",
        "print(\"Accuracy:\", accuracy)"
      ]
    }
  ]
}
