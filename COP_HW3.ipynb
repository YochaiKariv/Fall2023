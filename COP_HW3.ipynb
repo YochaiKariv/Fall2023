{
  "nbformat": 4,
  "nbformat_minor": 0,
  "metadata": {
    "colab": {
      "provenance": [],
      "authorship_tag": "ABX9TyP5lPPV04hXKMI6TshRJcM2",
      "include_colab_link": true
    },
    "kernelspec": {
      "name": "python3",
      "display_name": "Python 3"
    },
    "language_info": {
      "name": "python"
    }
  },
  "cells": [
    {
      "cell_type": "markdown",
      "metadata": {
        "id": "view-in-github",
        "colab_type": "text"
      },
      "source": [
        "<a href=\"https://colab.research.google.com/github/YochaiKariv/Fall2023/blob/main/COP_HW3.ipynb\" target=\"_parent\"><img src=\"https://colab.research.google.com/assets/colab-badge.svg\" alt=\"Open In Colab\"/></a>"
      ]
    },
    {
      "cell_type": "markdown",
      "source": [],
      "metadata": {
        "id": "uY0jgnMv3U94"
      }
    },
    {
      "cell_type": "markdown",
      "source": [
        "# Part 1"
      ],
      "metadata": {
        "id": "XMLDEU9bNLve"
      }
    },
    {
      "cell_type": "code",
      "execution_count": 2,
      "metadata": {
        "colab": {
          "base_uri": "https://localhost:8080/"
        },
        "id": "4xnNOlRU_nLc",
        "outputId": "7af3fbf0-b17e-436a-fb2e-0b2700fd28d9"
      },
      "outputs": [
        {
          "output_type": "stream",
          "name": "stdout",
          "text": [
            "1\n",
            "2\n",
            "3\n",
            "4\n",
            "5\n",
            "6\n",
            "7\n",
            "8\n",
            "9\n",
            "10\n"
          ]
        }
      ],
      "source": [
        "\n",
        "# use a loop to print the numbers 1-10\n",
        "\n",
        "for x in range(1,11):\n",
        "  print(x)"
      ]
    },
    {
      "cell_type": "code",
      "source": [
        "# Create a list of the first ten natural numbers multiples of 10\n",
        "\n",
        "[x*10 for x in range(1,11)]"
      ],
      "metadata": {
        "colab": {
          "base_uri": "https://localhost:8080/"
        },
        "id": "TWbabn36CEPj",
        "outputId": "f9fcfa2f-7530-4c9f-e004-7649bf761946"
      },
      "execution_count": 3,
      "outputs": [
        {
          "output_type": "execute_result",
          "data": {
            "text/plain": [
              "[10, 20, 30, 40, 50, 60, 70, 80, 90, 100]"
            ]
          },
          "metadata": {},
          "execution_count": 3
        }
      ]
    },
    {
      "cell_type": "code",
      "source": [
        "# Return the largest number from a list.\n",
        "\n",
        "MyList = [9,54,34,40,3,12]\n",
        "def GiveLargest(MyList):\n",
        "  return max(MyList)"
      ],
      "metadata": {
        "id": "owOMvXleEZBS"
      },
      "execution_count": 4,
      "outputs": []
    },
    {
      "cell_type": "code",
      "source": [
        "GiveLargest(MyList)"
      ],
      "metadata": {
        "colab": {
          "base_uri": "https://localhost:8080/"
        },
        "id": "c85AHryaKGl9",
        "outputId": "9aaf6241-c551-4a4d-c146-285dc5cf2259"
      },
      "execution_count": 5,
      "outputs": [
        {
          "output_type": "execute_result",
          "data": {
            "text/plain": [
              "54"
            ]
          },
          "metadata": {},
          "execution_count": 5
        }
      ]
    },
    {
      "cell_type": "markdown",
      "source": [
        "# Part 2"
      ],
      "metadata": {
        "id": "7DU8eLLCNSB9"
      }
    },
    {
      "cell_type": "code",
      "source": [
        "# create a function to check if a number is even\n",
        "\n",
        "def iseven(x):\n",
        "  return x%2==0\n"
      ],
      "metadata": {
        "id": "GvJRmIRcRxWh"
      },
      "execution_count": 6,
      "outputs": []
    },
    {
      "cell_type": "code",
      "source": [
        "iseven(23)"
      ],
      "metadata": {
        "colab": {
          "base_uri": "https://localhost:8080/"
        },
        "id": "Dpb-T8ldSKjP",
        "outputId": "5500ada7-f020-4271-e03d-7012eaa8e254"
      },
      "execution_count": 7,
      "outputs": [
        {
          "output_type": "execute_result",
          "data": {
            "text/plain": [
              "False"
            ]
          },
          "metadata": {},
          "execution_count": 7
        }
      ]
    },
    {
      "cell_type": "code",
      "source": [
        "# create a loop that print the even numbers between 1-50\n",
        "for x in range(1,51):\n",
        "  if x%2==0:\n",
        "    print(x)"
      ],
      "metadata": {
        "colab": {
          "base_uri": "https://localhost:8080/"
        },
        "id": "dost3Z6ITWMK",
        "outputId": "ed6a327a-7f30-4282-d9da-39fe4aae55c4"
      },
      "execution_count": 8,
      "outputs": [
        {
          "output_type": "stream",
          "name": "stdout",
          "text": [
            "2\n",
            "4\n",
            "6\n",
            "8\n",
            "10\n",
            "12\n",
            "14\n",
            "16\n",
            "18\n",
            "20\n",
            "22\n",
            "24\n",
            "26\n",
            "28\n",
            "30\n",
            "32\n",
            "34\n",
            "36\n",
            "38\n",
            "40\n",
            "42\n",
            "44\n",
            "46\n",
            "48\n",
            "50\n"
          ]
        }
      ]
    },
    {
      "cell_type": "code",
      "source": [
        "# count the vowels in a string\n",
        "\n",
        "def count_vowels(input_string):\n",
        "    # Initialize a counter for the vowels\n",
        "    vowel_count = 0\n",
        "\n",
        "    # Convert the string to lowercase and loop through each character\n",
        "    for char in input_string.lower():\n",
        "\n",
        "        # Check if the character is a vowel\n",
        "        if char in 'aeiou':\n",
        "            vowel_count += 1  # +1 if it's a vowel\n",
        "\n",
        "    return vowel_count  # Return the total count of vowels\n",
        "\n",
        "# Test the function\n",
        "result = count_vowels('hello world')\n",
        "print(result)\n"
      ],
      "metadata": {
        "colab": {
          "base_uri": "https://localhost:8080/"
        },
        "id": "9Ymy4ViBgUv2",
        "outputId": "0adfeb7c-0fea-4cc9-f801-240cab63cfa9"
      },
      "execution_count": 12,
      "outputs": [
        {
          "output_type": "stream",
          "name": "stdout",
          "text": [
            "3\n"
          ]
        }
      ]
    },
    {
      "cell_type": "markdown",
      "source": [
        "# Part 3"
      ],
      "metadata": {
        "id": "QRtHE5K_1R7k"
      }
    },
    {
      "cell_type": "code",
      "source": [
        "# Define a function that returns the factorial of a number.\n",
        "def factorial(n):\n",
        "    if n == 0:\n",
        "        return 1\n",
        "    else:\n",
        "        return n * factorial(n-1)\n",
        "\n",
        "print(factorial(5))\n"
      ],
      "metadata": {
        "colab": {
          "base_uri": "https://localhost:8080/"
        },
        "id": "3aCGJo8RumJt",
        "outputId": "d581aeb2-899b-4559-be54-942f9f55661a"
      },
      "execution_count": 14,
      "outputs": [
        {
          "output_type": "stream",
          "name": "stdout",
          "text": [
            "120\n"
          ]
        }
      ]
    },
    {
      "cell_type": "code",
      "source": [
        "# Find the grade (A, B, C, etc.) of a student given their marks.\n",
        "def find_grade(marks):\n",
        "    if marks >= 90:\n",
        "        return 'A'\n",
        "    elif marks >= 80:\n",
        "        return 'B'\n",
        "    elif marks >= 70:\n",
        "        return 'C'\n",
        "    else:\n",
        "        return 'Fail'\n",
        "\n",
        "print(find_grade(14))\n"
      ],
      "metadata": {
        "colab": {
          "base_uri": "https://localhost:8080/"
        },
        "id": "beqK3LwCumL6",
        "outputId": "dc2f1ac1-2bda-49dd-90a6-8a297c60f63e"
      },
      "execution_count": 21,
      "outputs": [
        {
          "output_type": "stream",
          "name": "stdout",
          "text": [
            "Fail\n"
          ]
        }
      ]
    },
    {
      "cell_type": "code",
      "source": [
        "# Create a function that finds the nth Fibonacci number.\n",
        "def findfibonacci(n):\n",
        "  a,b=0,1\n",
        "  for x in range(n):\n",
        "    a,b=b,a+b\n",
        "  return a\n",
        "print(findfibonacci(5))\n"
      ],
      "metadata": {
        "colab": {
          "base_uri": "https://localhost:8080/"
        },
        "id": "34dlbZYOumN4",
        "outputId": "cf241568-0e44-4608-ac2a-94d870c05992"
      },
      "execution_count": 32,
      "outputs": [
        {
          "output_type": "stream",
          "name": "stdout",
          "text": [
            "5\n"
          ]
        }
      ]
    },
    {
      "cell_type": "markdown",
      "source": [
        "# Part 4"
      ],
      "metadata": {
        "id": "6Toj2L3VR48y"
      }
    },
    {
      "cell_type": "code",
      "source": [
        "# Calculate my BMI\n",
        "def bmicalc(x,y):\n",
        "  return x/(y**2)\n",
        "x,y= 68,1.65\n",
        "print(bmicalc(x,y))"
      ],
      "metadata": {
        "colab": {
          "base_uri": "https://localhost:8080/"
        },
        "id": "q7R4P-B4umRY",
        "outputId": "648b871d-de5b-4583-b7a7-4d309c241ee8"
      },
      "execution_count": 36,
      "outputs": [
        {
          "output_type": "stream",
          "name": "stdout",
          "text": [
            "24.977043158861342\n"
          ]
        }
      ]
    },
    {
      "cell_type": "code",
      "source": [
        "# Convert celcius to farenheit\n",
        "def  celtofer(cel):\n",
        "  return (cel*9/5)+32\n",
        "print(celtofer(21.4))"
      ],
      "metadata": {
        "colab": {
          "base_uri": "https://localhost:8080/"
        },
        "id": "HNHY-jn4umTa",
        "outputId": "802984b8-26aa-4c5a-8236-43fa38e693a6"
      },
      "execution_count": 40,
      "outputs": [
        {
          "output_type": "stream",
          "name": "stdout",
          "text": [
            "70.52\n"
          ]
        }
      ]
    },
    {
      "cell_type": "code",
      "source": [],
      "metadata": {
        "id": "XaOyvrG1umVN"
      },
      "execution_count": null,
      "outputs": []
    },
    {
      "cell_type": "code",
      "source": [],
      "metadata": {
        "id": "ei-Fvu18umXB"
      },
      "execution_count": null,
      "outputs": []
    }
  ]
}